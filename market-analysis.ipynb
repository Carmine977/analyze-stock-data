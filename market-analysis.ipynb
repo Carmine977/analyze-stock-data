{
 "cells": [
  {
   "cell_type": "markdown",
   "metadata": {},
   "source": [
    "## Market Analysis"
   ]
  },
  {
   "cell_type": "markdown",
   "metadata": {},
   "source": [
    "### Load Libraries"
   ]
  },
  {
   "cell_type": "code",
   "execution_count": 1,
   "metadata": {
    "collapsed": false
   },
   "outputs": [],
   "source": [
    "import pandas as pd\n",
    "import numpy as np\n",
    "import os\n",
    "from os import listdir\n",
    "from datetime import timedelta\n",
    "import matplotlib.pyplot as plt\n",
    "from utils.util import get_data, plot_data, compute_daily_returns, fit_scatter, compute_sharpe_ratio\n",
    "%matplotlib inline "
   ]
  },
  {
   "cell_type": "markdown",
   "metadata": {},
   "source": [
    "### Initializations"
   ]
  },
  {
   "cell_type": "code",
   "execution_count": null,
   "metadata": {
    "collapsed": true
   },
   "outputs": [],
   "source": [
    "date_start = '2016-07-01'\n",
    "date_end = '2017-07-08'\n",
    "folder_name = 'download'\n",
    "\n",
    "dates = pd.date_range(date_start, date_end)\n",
    "# NYSE – Most Active Stocks\n",
    "# symbols = ['BAC', 'RAD', 'GE', 'CHK', 'WFT', 'ABEV', 'WLL', 'VALE', 'AKS', \n",
    "#             'X', 'ESV', 'F', 'T', 'CX', 'VRX', 'PBR', 'ITUB', 'SWN', 'PFE', 'MRO']"
   ]
  },
  {
   "cell_type": "markdown",
   "metadata": {},
   "source": [
    "### Load Stock Data"
   ]
  },
  {
   "cell_type": "code",
   "execution_count": null,
   "metadata": {
    "collapsed": false
   },
   "outputs": [],
   "source": [
    "# create list of tickers from filenames \n",
    "files_list = listdir(os.path.join(folder_name))\n",
    "symbols = map(lambda x: x.split('.csv')[0], files_list)\n",
    "\n",
    "if 'SPY' in symbols: # eliminate SPY from symbols so that it becomes first element processed by get_data\n",
    "    del symbols[symbols.index('SPY')]\n",
    "\n",
    "df = get_data(symbols, dates, price='Close', folder=folder_name)\n",
    "\n",
    "print \"Total Stocks:\", df.shape[1]"
   ]
  },
  {
   "cell_type": "markdown",
   "metadata": {},
   "source": [
    "### Clean DataFrame"
   ]
  },
  {
   "cell_type": "code",
   "execution_count": null,
   "metadata": {
    "collapsed": false
   },
   "outputs": [],
   "source": [
    "# delete all columns that are NaN for the last N days or for more than X% of the time\n",
    "days = 20\n",
    "date_temp = df.index[-1] - timedelta(days=20)\n",
    "df_sub = df.ix[date_temp:date_end]\n",
    "\n",
    "for name, values in df_sub.iteritems():\n",
    "    if (df_sub[name].isnull().all()) | (df[name].isnull().sum()/float(df.shape[0]) > 0.35):\n",
    "        del df[name]\n",
    "        print name,\n",
    "\n",
    "print \"\\nTotal Stocks:\", df.shape[1]"
   ]
  },
  {
   "cell_type": "markdown",
   "metadata": {},
   "source": [
    "### Compute statistics"
   ]
  },
  {
   "cell_type": "code",
   "execution_count": null,
   "metadata": {
    "collapsed": false
   },
   "outputs": [],
   "source": [
    "# normalize all stock prices\n",
    "df_n = df / df.ix[0]\n",
    "\n",
    "# Compute cumulative ruturn (from beginning to end)\n",
    "cum_ret = df_n.ix[-1] - df_n.ix[0]\n",
    "\n",
    "# Compute daily return, mean and standard deviation (volatility)\n",
    "daily_returns = compute_daily_returns(df)\n",
    "avg_daily_ret = daily_returns.mean()\n",
    "std_daily_ret = daily_returns.std()\n",
    "\n",
    "# Compute sharp ratio\n",
    "sharpe_ratio = compute_sharpe_ratio(df)\n",
    "\n",
    "# Group statistics\n",
    "stat = pd.concat([cum_ret, avg_daily_ret, std_daily_ret, sharpe_ratio], \n",
    "          keys=['cum_ret', 'avg_daily_ret', 'std_daily_ret', 'sharpe_ratio'],axis=1)"
   ]
  },
  {
   "cell_type": "code",
   "execution_count": null,
   "metadata": {
    "collapsed": false
   },
   "outputs": [],
   "source": [
    "plt.figure(figsize=(12,8))\n",
    "plt.plot(avg_daily_ret, std_daily_ret, 'o')\n",
    "\n",
    "for i, txt in enumerate(df.columns.tolist()):\n",
    "    plt.annotate(txt, (avg_daily_ret[i], std_daily_ret[i]))\n",
    "\n",
    "plt.title('AVG daily returns vs STD daily returns')\n",
    "plt.xlabel('avg_daily_ret')\n",
    "plt.ylabel('std_daily_ret')\n",
    "plt.xlim((-0.002, 0.003))\n",
    "plt.ylim((0.005, 0.016))\n",
    "plt.grid()\n",
    "plt.show()"
   ]
  },
  {
   "cell_type": "code",
   "execution_count": null,
   "metadata": {
    "collapsed": false
   },
   "outputs": [],
   "source": [
    "# Show statistics sorted by sharp ratio\n",
    "stat = stat.sort_values(['sharpe_ratio'], ascending=False)\n",
    "stat.ix['BA']"
   ]
  },
  {
   "cell_type": "markdown",
   "metadata": {},
   "source": [
    "### Perform visual check"
   ]
  },
  {
   "cell_type": "code",
   "execution_count": null,
   "metadata": {
    "collapsed": false
   },
   "outputs": [],
   "source": [
    "stock = ['SPY', 'BA', 'BAC', 'CMA', 'GD', 'GLW','STT']\n",
    "\n",
    "# Compute daily returns\n",
    "daily_returns = compute_daily_returns(df)\n",
    "plot_data(df_n[stock])"
   ]
  },
  {
   "cell_type": "markdown",
   "metadata": {},
   "source": [
    "* **Daily Returns**"
   ]
  },
  {
   "cell_type": "code",
   "execution_count": null,
   "metadata": {
    "collapsed": false
   },
   "outputs": [],
   "source": [
    "plot_data(daily_returns[['SPY', 'BA']], title=\"Daily Returns\")"
   ]
  },
  {
   "cell_type": "markdown",
   "metadata": {},
   "source": [
    "* **Scatter Plot**"
   ]
  },
  {
   "cell_type": "code",
   "execution_count": null,
   "metadata": {
    "collapsed": false
   },
   "outputs": [],
   "source": [
    "fit_scatter(daily_returns, x='SPY', y='BA')"
   ]
  },
  {
   "cell_type": "code",
   "execution_count": null,
   "metadata": {
    "collapsed": false
   },
   "outputs": [],
   "source": [
    "correl = daily_returns.corr(method='pearson')\n",
    "correl['SPY'].sort_values(ascending=False)"
   ]
  },
  {
   "cell_type": "code",
   "execution_count": null,
   "metadata": {
    "collapsed": true
   },
   "outputs": [],
   "source": []
  }
 ],
 "metadata": {
  "kernelspec": {
   "display_name": "Python 2",
   "language": "python",
   "name": "python2"
  },
  "language_info": {
   "codemirror_mode": {
    "name": "ipython",
    "version": 2
   },
   "file_extension": ".py",
   "mimetype": "text/x-python",
   "name": "python",
   "nbconvert_exporter": "python",
   "pygments_lexer": "ipython2",
   "version": "2.7.11"
  }
 },
 "nbformat": 4,
 "nbformat_minor": 0
}
