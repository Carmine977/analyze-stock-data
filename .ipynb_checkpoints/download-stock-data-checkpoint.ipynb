{
 "cells": [
  {
   "cell_type": "code",
   "execution_count": 4,
   "metadata": {
    "collapsed": true
   },
   "outputs": [],
   "source": [
    "import pandas_datareader.data as wb\n",
    "import os"
   ]
  },
  {
   "cell_type": "code",
   "execution_count": 5,
   "metadata": {
    "collapsed": true
   },
   "outputs": [],
   "source": [
    "NYSE_list = ['BAC', 'RAD', 'GE', 'CHK', 'WFT', 'ABEV', 'WLL', 'VALE', 'AKS', \n",
    "             'X', 'ESV', 'F', 'T', 'CX', 'VRX', 'PBR', 'ITUB', 'SWN', 'PFE', 'MRO']"
   ]
  },
  {
   "cell_type": "code",
   "execution_count": 6,
   "metadata": {
    "collapsed": false
   },
   "outputs": [
    {
     "name": "stdout",
     "output_type": "stream",
     "text": [
      "Processing  NYSE:BAC ...\n",
      "Processing  NYSE:RAD ...\n",
      "Processing  NYSE:GE ...\n",
      "Processing  NYSE:CHK ...\n",
      "Processing  NYSE:WFT ...\n",
      "Processing  NYSE:ABEV ...\n",
      "Processing  NYSE:WLL ...\n",
      "Processing  NYSE:VALE ...\n",
      "Processing  NYSE:AKS ...\n",
      "Processing  NYSE:X ...\n",
      "Processing  NYSE:ESV ...\n",
      "Processing  NYSE:F ...\n",
      "Processing  NYSE:T ...\n",
      "Processing  NYSE:CX ...\n",
      "Processing  NYSE:VRX ...\n",
      "Processing  NYSE:PBR ...\n",
      "Processing  NYSE:ITUB ...\n",
      "Processing  NYSE:SWN ...\n",
      "Processing  NYSE:PFE ...\n",
      "Processing  NYSE:MRO ...\n"
     ]
    }
   ],
   "source": [
    "for stock in NYSE_list:\n",
    "    stock_name = 'NYSE:{}'.format(stock)\n",
    "    print \"Processing \", stock_name, '...'\n",
    "    web_df = wb.DataReader(stock_name, 'google', '2010-01-01', '2017-07-08')\n",
    "    web_df.to_csv(os.path.join('Historical Data\\\\', stock + '.csv'))"
   ]
  },
  {
   "cell_type": "code",
   "execution_count": null,
   "metadata": {
    "collapsed": true
   },
   "outputs": [],
   "source": []
  }
 ],
 "metadata": {
  "kernelspec": {
   "display_name": "Python 2",
   "language": "python",
   "name": "python2"
  },
  "language_info": {
   "codemirror_mode": {
    "name": "ipython",
    "version": 2
   },
   "file_extension": ".py",
   "mimetype": "text/x-python",
   "name": "python",
   "nbconvert_exporter": "python",
   "pygments_lexer": "ipython2",
   "version": "2.7.11"
  }
 },
 "nbformat": 4,
 "nbformat_minor": 0
}
