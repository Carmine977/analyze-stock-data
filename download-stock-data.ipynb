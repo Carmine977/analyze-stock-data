{
 "cells": [
  {
   "cell_type": "markdown",
   "metadata": {},
   "source": [
    "## Download Stock Data  "
   ]
  },
  {
   "cell_type": "markdown",
   "metadata": {},
   "source": [
    "This notebook makes use of the remote data access for pandas (pandas-datareader) to import stock data from online sources.  \n",
    "In this notebook we will use the \"google\" data source, since the \"yahoo\" API seems to be no longer available."
   ]
  },
  {
   "cell_type": "markdown",
   "metadata": {},
   "source": [
    "### Import Libraries"
   ]
  },
  {
   "cell_type": "code",
   "execution_count": 1,
   "metadata": {
    "collapsed": true
   },
   "outputs": [],
   "source": [
    "import pandas_datareader.data as wb\n",
    "import os"
   ]
  },
  {
   "cell_type": "markdown",
   "metadata": {},
   "source": [
    "### Initializations"
   ]
  },
  {
   "cell_type": "code",
   "execution_count": 2,
   "metadata": {
    "collapsed": true
   },
   "outputs": [],
   "source": [
    "folder_name = 'data'\n",
    "market = 'NYSE'\n",
    "date_start = '2010-01-01'\n",
    "date_end = '2017-07-08'\n",
    "addSPY = True\n",
    "\n",
    "# NYSE – Most Active Stocks\n",
    "symbols = ['BAC', 'RAD', 'GE', 'CHK', 'WFT', 'ABEV', 'WLL', 'VALE', 'AKS', \n",
    "             'X', 'ESV', 'F', 'T', 'CX', 'VRX', 'PBR', 'ITUB', 'SWN', 'PFE', 'MRO']"
   ]
  },
  {
   "cell_type": "markdown",
   "metadata": {},
   "source": [
    "### Download data"
   ]
  },
  {
   "cell_type": "code",
   "execution_count": 3,
   "metadata": {
    "collapsed": false
   },
   "outputs": [
    {
     "name": "stdout",
     "output_type": "stream",
     "text": [
      "Processing  NYSE:SPY ...\n",
      "Processing  NYSE:BAC ...\n",
      "Processing  NYSE:RAD ...\n",
      "Processing  NYSE:GE ...\n",
      "Processing  NYSE:CHK ...\n",
      "Processing  NYSE:WFT ...\n",
      "Processing  NYSE:ABEV ...\n",
      "Processing  NYSE:WLL ...\n",
      "Processing  NYSE:VALE ...\n",
      "Processing  NYSE:AKS ...\n",
      "Processing  NYSE:X ...\n",
      "Processing  NYSE:ESV ...\n",
      "Processing  NYSE:F ...\n",
      "Processing  NYSE:T ...\n",
      "Processing  NYSE:CX ...\n",
      "Processing  NYSE:VRX ...\n",
      "Processing  NYSE:PBR ...\n",
      "Processing  NYSE:ITUB ...\n",
      "Processing  NYSE:SWN ...\n",
      "Processing  NYSE:PFE ...\n",
      "Processing  NYSE:MRO ...\n",
      "-------- END --------\n"
     ]
    }
   ],
   "source": [
    "if addSPY and 'SPY' not in symbols:  # add SPY for reference, if absent\n",
    "        symbols = ['SPY'] + symbols\n",
    "\n",
    "for stock in symbols:\n",
    "    stock_name = '{}:{}'.format(market, stock)\n",
    "    print \"Processing \", stock_name, '...'\n",
    "    web_df = wb.DataReader(stock_name, 'google', date_start, date_end)\n",
    "    web_df.to_csv(os.path.join(folder_name, stock + '.csv'))\n",
    "print \"-------- END --------\""
   ]
  },
  {
   "cell_type": "code",
   "execution_count": null,
   "metadata": {
    "collapsed": true
   },
   "outputs": [],
   "source": []
  }
 ],
 "metadata": {
  "kernelspec": {
   "display_name": "Python 2",
   "language": "python",
   "name": "python2"
  },
  "language_info": {
   "codemirror_mode": {
    "name": "ipython",
    "version": 2
   },
   "file_extension": ".py",
   "mimetype": "text/x-python",
   "name": "python",
   "nbconvert_exporter": "python",
   "pygments_lexer": "ipython2",
   "version": "2.7.11"
  }
 },
 "nbformat": 4,
 "nbformat_minor": 0
}
