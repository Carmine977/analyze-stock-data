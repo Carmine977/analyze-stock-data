{
 "cells": [
  {
   "cell_type": "markdown",
   "metadata": {},
   "source": [
    "## Download Stock Data  "
   ]
  },
  {
   "cell_type": "markdown",
   "metadata": {},
   "source": [
    "This notebook makes use of the remote data access for pandas (pandas-datareader) to import stock data from online sources.  \n",
    "In this notebook we will use the \"google\" data source, since the \"yahoo\" API seems to be no longer available."
   ]
  },
  {
   "cell_type": "markdown",
   "metadata": {},
   "source": [
    "### Import Libraries"
   ]
  },
  {
   "cell_type": "code",
   "execution_count": null,
   "metadata": {
    "collapsed": true
   },
   "outputs": [],
   "source": [
    "import pandas_datareader.data as wb\n",
    "import pandas as pd\n",
    "import os"
   ]
  },
  {
   "cell_type": "markdown",
   "metadata": {},
   "source": [
    "### Initializations"
   ]
  },
  {
   "cell_type": "code",
   "execution_count": null,
   "metadata": {
    "collapsed": true
   },
   "outputs": [],
   "source": [
    "folder_name = 'test'\n",
    "date_start = '2010-01-01'\n",
    "date_end = '2017-07-11'\n",
    "addSPY = True\n",
    "\n",
    "# S&P500\n",
    "df = pd.read_csv('S&P500.csv', sep=None, engine='python')\n",
    "symbols = df['Symbol'].tolist()\n",
    "#symbols = ['BRCM']"
   ]
  },
  {
   "cell_type": "markdown",
   "metadata": {},
   "source": [
    "### Download data"
   ]
  },
  {
   "cell_type": "code",
   "execution_count": null,
   "metadata": {
    "collapsed": false
   },
   "outputs": [],
   "source": [
    "ticker_no = 0\n",
    "\n",
    "for stock in symbols:\n",
    "    fail = True\n",
    "    ix = 0 # counter: stop while if trials > 2 \n",
    "    ticker_no += 1 \n",
    "    market = 'NYSE' # initialize on NYSE market\n",
    "\n",
    "    while fail:\n",
    "        ix += 1\n",
    "        stock_name = '{}:{}'.format(market, stock)\n",
    "        print \"Processing \", \"({}/{})\".format(ticker_no, len(symbols)), stock_name, '...'\n",
    "\n",
    "        try:\n",
    "            web_df = wb.DataReader(stock_name, 'google', date_start, date_end)\n",
    "            web_df.to_csv(os.path.join(folder_name, stock + '.csv'))\n",
    "            fail = False            \n",
    "        except:\n",
    "            market = 'NASDAQ' # change market if ticker not present in NYSE\n",
    "            fail = True\n",
    "        if ix > 2:\n",
    "            print '...', stock_name, \"FAILED\"\n",
    "            break\n",
    "                    \n",
    "print \"-------- END --------\""
   ]
  },
  {
   "cell_type": "code",
   "execution_count": null,
   "metadata": {
    "collapsed": true
   },
   "outputs": [],
   "source": []
  }
 ],
 "metadata": {
  "kernelspec": {
   "display_name": "Python 2",
   "language": "python",
   "name": "python2"
  },
  "language_info": {
   "codemirror_mode": {
    "name": "ipython",
    "version": 2
   },
   "file_extension": ".py",
   "mimetype": "text/x-python",
   "name": "python",
   "nbconvert_exporter": "python",
   "pygments_lexer": "ipython2",
   "version": "2.7.11"
  }
 },
 "nbformat": 4,
 "nbformat_minor": 0
}
